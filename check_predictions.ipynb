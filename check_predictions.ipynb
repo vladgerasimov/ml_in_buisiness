{
 "cells": [
  {
   "cell_type": "code",
   "execution_count": 30,
   "metadata": {},
   "outputs": [],
   "source": [
    "import numpy as np\n",
    "import torch\n",
    "import torchvision\n",
    "import matplotlib.pyplot as plt\n",
    "from time import time\n",
    "from torchvision import datasets, transforms\n",
    "from torch import nn, optim\n",
    "from pathlib import Path\n",
    "import os\n",
    "import requests\n",
    "import urllib\n",
    "import json"
   ]
  },
  {
   "cell_type": "code",
   "execution_count": 2,
   "metadata": {},
   "outputs": [],
   "source": [
    "directory = Path(os.getcwd())\n",
    "data = directory.joinpath('app').joinpath('data')\n",
    "train = data.joinpath('train')\n",
    "val = data.joinpath('val')\n",
    "for i in data, train, val:\n",
    "    if not i.exists():\n",
    "        i.mkdir()\n",
    "transform = transforms.Compose([transforms.ToTensor(), \n",
    "                                transforms.Normalize((0.5,), (0.5,))])"
   ]
  },
  {
   "cell_type": "code",
   "execution_count": 58,
   "metadata": {},
   "outputs": [],
   "source": [
    "trainset = datasets.MNIST(train, download=False, train=True, transform=transform)\n",
    "valset = datasets.MNIST(val, download=False, train=False, transform=transform)\n",
    "trainloader = torch.utils.data.DataLoader(trainset, batch_size=10, shuffle=True)\n",
    "valloader = torch.utils.data.DataLoader(valset, batch_size=10, shuffle=True)"
   ]
  },
  {
   "cell_type": "code",
   "execution_count": 59,
   "metadata": {},
   "outputs": [],
   "source": [
    "data_iter = iter(trainloader)\n",
    "\n",
    "images, labels = data_iter.next()"
   ]
  },
  {
   "cell_type": "code",
   "execution_count": 79,
   "metadata": {},
   "outputs": [],
   "source": [
    "def get_predictions(imgs):\n",
    "    imgs = [img.view(1, 28**2).tolist()[0] for img in imgs]\n",
    "    url = 'http://0.0.0.0:8181/predict'\n",
    "    req = urllib.request.Request(url)\n",
    "    req.add_header('Content-Type', 'application/json; charset=utf-8')\n",
    "    body = json.dumps(imgs)\n",
    "    body = body.encode('utf-8')\n",
    "    req.add_header('Content-Length', len(body))\n",
    "    response = urllib.request.urlopen(req, body)\n",
    "    return json.loads(response.read())['predictions']"
   ]
  },
  {
   "cell_type": "code",
   "execution_count": 81,
   "metadata": {
    "scrolled": false
   },
   "outputs": [
    {
     "data": {
      "text/plain": [
       "[1, 7, 2, 7, 0, 4, 3, 3, 4, 1]"
      ]
     },
     "execution_count": 81,
     "metadata": {},
     "output_type": "execute_result"
    }
   ],
   "source": [
    "pred = get_predictions(images)\n",
    "pred"
   ]
  },
  {
   "cell_type": "code",
   "execution_count": 89,
   "metadata": {},
   "outputs": [
    {
     "data": {
      "image/png": "[encoded data removed]",
      "text/plain": [
       "<Figure size 432x288 with 10 Axes>"
      ]
     },
     "metadata": {
      "needs_background": "light"
     },
     "output_type": "display_data"
    }
   ],
   "source": [
    "figure = plt.figure()\n",
    "num_of_images = 10\n",
    "for index in range(1, num_of_images + 1):\n",
    "    plt.subplot(1, 10, index)\n",
    "    plt.axis('off')\n",
    "    plt.imshow(images[index-1].numpy().squeeze(), cmap='gray_r')"
   ]
  }
 ],
 "metadata": {
  "kernelspec": {
   "display_name": "Python 3",
   "language": "python",
   "name": "python3"
  },
  "language_info": {
   "codemirror_mode": {
    "name": "ipython",
    "version": 3
   },
   "file_extension": ".py",
   "mimetype": "text/x-python",
   "name": "python",
   "nbconvert_exporter": "python",
   "pygments_lexer": "ipython3",
   "version": "3.8.5"
  }
 },
 "nbformat": 4,
 "nbformat_minor": 4
}
